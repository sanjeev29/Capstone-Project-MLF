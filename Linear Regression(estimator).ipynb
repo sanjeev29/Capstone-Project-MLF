{
 "cells": [
  {
   "cell_type": "code",
   "execution_count": 3,
   "metadata": {},
   "outputs": [],
   "source": [
    "import tensorflow as tf\n",
    "from tensorflow import keras\n",
    "import pandas as pd\n",
    "import numpy as np\n",
    "import matplotlib.pyplot as plt\n",
    "from sklearn.model_selection import train_test_split"
   ]
  },
  {
   "cell_type": "code",
   "execution_count": 4,
   "metadata": {},
   "outputs": [
    {
     "data": {
      "text/html": [
       "<div>\n",
       "<style scoped>\n",
       "    .dataframe tbody tr th:only-of-type {\n",
       "        vertical-align: middle;\n",
       "    }\n",
       "\n",
       "    .dataframe tbody tr th {\n",
       "        vertical-align: top;\n",
       "    }\n",
       "\n",
       "    .dataframe thead th {\n",
       "        text-align: right;\n",
       "    }\n",
       "</style>\n",
       "<table border=\"1\" class=\"dataframe\">\n",
       "  <thead>\n",
       "    <tr style=\"text-align: right;\">\n",
       "      <th></th>\n",
       "      <th>adult</th>\n",
       "      <th>id</th>\n",
       "      <th>original_language</th>\n",
       "      <th>popularity</th>\n",
       "      <th>revenue</th>\n",
       "      <th>runtime</th>\n",
       "      <th>status</th>\n",
       "      <th>video</th>\n",
       "      <th>vote_average</th>\n",
       "      <th>vote_count</th>\n",
       "      <th>genreset</th>\n",
       "      <th>prod_comp</th>\n",
       "      <th>prod_countries</th>\n",
       "      <th>status_int</th>\n",
       "      <th>lang_int</th>\n",
       "    </tr>\n",
       "  </thead>\n",
       "  <tbody>\n",
       "    <tr>\n",
       "      <th>0</th>\n",
       "      <td>0</td>\n",
       "      <td>862</td>\n",
       "      <td>en</td>\n",
       "      <td>21.946943</td>\n",
       "      <td>373554033.0</td>\n",
       "      <td>81.0</td>\n",
       "      <td>Released</td>\n",
       "      <td>0</td>\n",
       "      <td>7.7</td>\n",
       "      <td>5415.0</td>\n",
       "      <td>['Animation', 'Comedy', 'Family']</td>\n",
       "      <td>['Pixar Animation Studios']</td>\n",
       "      <td>['United States of America']</td>\n",
       "      <td>1</td>\n",
       "      <td>13</td>\n",
       "    </tr>\n",
       "    <tr>\n",
       "      <th>1</th>\n",
       "      <td>0</td>\n",
       "      <td>8844</td>\n",
       "      <td>en</td>\n",
       "      <td>17.015539</td>\n",
       "      <td>262797249.0</td>\n",
       "      <td>104.0</td>\n",
       "      <td>Released</td>\n",
       "      <td>0</td>\n",
       "      <td>6.9</td>\n",
       "      <td>2413.0</td>\n",
       "      <td>['Adventure', 'Fantasy', 'Family']</td>\n",
       "      <td>['TriStar Pictures', 'Teitler Film', 'Intersco...</td>\n",
       "      <td>['United States of America']</td>\n",
       "      <td>1</td>\n",
       "      <td>13</td>\n",
       "    </tr>\n",
       "    <tr>\n",
       "      <th>2</th>\n",
       "      <td>0</td>\n",
       "      <td>31357</td>\n",
       "      <td>en</td>\n",
       "      <td>3.859495</td>\n",
       "      <td>81452156.0</td>\n",
       "      <td>127.0</td>\n",
       "      <td>Released</td>\n",
       "      <td>0</td>\n",
       "      <td>6.1</td>\n",
       "      <td>34.0</td>\n",
       "      <td>['Comedy', 'Drama', 'Romance']</td>\n",
       "      <td>['Twentieth Century Fox Film Corporation']</td>\n",
       "      <td>['United States of America']</td>\n",
       "      <td>1</td>\n",
       "      <td>13</td>\n",
       "    </tr>\n",
       "    <tr>\n",
       "      <th>3</th>\n",
       "      <td>0</td>\n",
       "      <td>11862</td>\n",
       "      <td>en</td>\n",
       "      <td>8.387519</td>\n",
       "      <td>76578911.0</td>\n",
       "      <td>106.0</td>\n",
       "      <td>Released</td>\n",
       "      <td>0</td>\n",
       "      <td>5.7</td>\n",
       "      <td>173.0</td>\n",
       "      <td>['Comedy']</td>\n",
       "      <td>['Sandollar Productions', 'Touchstone Pictures']</td>\n",
       "      <td>['United States of America']</td>\n",
       "      <td>1</td>\n",
       "      <td>13</td>\n",
       "    </tr>\n",
       "    <tr>\n",
       "      <th>4</th>\n",
       "      <td>0</td>\n",
       "      <td>949</td>\n",
       "      <td>en</td>\n",
       "      <td>17.924927</td>\n",
       "      <td>187436818.0</td>\n",
       "      <td>170.0</td>\n",
       "      <td>Released</td>\n",
       "      <td>0</td>\n",
       "      <td>7.7</td>\n",
       "      <td>1886.0</td>\n",
       "      <td>['Action', 'Crime', 'Drama', 'Thriller']</td>\n",
       "      <td>['Regency Enterprises', 'Forward Pass', 'Warne...</td>\n",
       "      <td>['United States of America']</td>\n",
       "      <td>1</td>\n",
       "      <td>13</td>\n",
       "    </tr>\n",
       "  </tbody>\n",
       "</table>\n",
       "</div>"
      ],
      "text/plain": [
       "   adult     id original_language  popularity      revenue  runtime    status  \\\n",
       "0      0    862                en   21.946943  373554033.0     81.0  Released   \n",
       "1      0   8844                en   17.015539  262797249.0    104.0  Released   \n",
       "2      0  31357                en    3.859495   81452156.0    127.0  Released   \n",
       "3      0  11862                en    8.387519   76578911.0    106.0  Released   \n",
       "4      0    949                en   17.924927  187436818.0    170.0  Released   \n",
       "\n",
       "   video  vote_average  vote_count                                  genreset  \\\n",
       "0      0           7.7      5415.0         ['Animation', 'Comedy', 'Family']   \n",
       "1      0           6.9      2413.0        ['Adventure', 'Fantasy', 'Family']   \n",
       "2      0           6.1        34.0            ['Comedy', 'Drama', 'Romance']   \n",
       "3      0           5.7       173.0                                ['Comedy']   \n",
       "4      0           7.7      1886.0  ['Action', 'Crime', 'Drama', 'Thriller']   \n",
       "\n",
       "                                           prod_comp  \\\n",
       "0                        ['Pixar Animation Studios']   \n",
       "1  ['TriStar Pictures', 'Teitler Film', 'Intersco...   \n",
       "2         ['Twentieth Century Fox Film Corporation']   \n",
       "3   ['Sandollar Productions', 'Touchstone Pictures']   \n",
       "4  ['Regency Enterprises', 'Forward Pass', 'Warne...   \n",
       "\n",
       "                 prod_countries  status_int  lang_int  \n",
       "0  ['United States of America']           1        13  \n",
       "1  ['United States of America']           1        13  \n",
       "2  ['United States of America']           1        13  \n",
       "3  ['United States of America']           1        13  \n",
       "4  ['United States of America']           1        13  "
      ]
     },
     "execution_count": 4,
     "metadata": {},
     "output_type": "execute_result"
    }
   ],
   "source": [
    "main_data = pd.read_csv('processed_imdb.csv')\n",
    "main_data = main_data.drop(['Unnamed: 0'],axis=1)\n",
    "e = []\n",
    "for i in main_data['popularity']:\n",
    "    try:\n",
    "        e.append(float(i))\n",
    "    except:\n",
    "        e.append(0.0)\n",
    "\n",
    "main_data['popularity'] = e\n",
    "main_data.head()"
   ]
  },
  {
   "cell_type": "code",
   "execution_count": 5,
   "metadata": {},
   "outputs": [
    {
     "data": {
      "text/html": [
       "<div>\n",
       "<style scoped>\n",
       "    .dataframe tbody tr th:only-of-type {\n",
       "        vertical-align: middle;\n",
       "    }\n",
       "\n",
       "    .dataframe tbody tr th {\n",
       "        vertical-align: top;\n",
       "    }\n",
       "\n",
       "    .dataframe thead th {\n",
       "        text-align: right;\n",
       "    }\n",
       "</style>\n",
       "<table border=\"1\" class=\"dataframe\">\n",
       "  <thead>\n",
       "    <tr style=\"text-align: right;\">\n",
       "      <th></th>\n",
       "      <th>adult</th>\n",
       "      <th>id</th>\n",
       "      <th>original_language</th>\n",
       "      <th>popularity</th>\n",
       "      <th>runtime</th>\n",
       "      <th>status</th>\n",
       "      <th>video</th>\n",
       "      <th>vote_average</th>\n",
       "      <th>vote_count</th>\n",
       "      <th>genreset</th>\n",
       "      <th>prod_comp</th>\n",
       "      <th>prod_countries</th>\n",
       "      <th>status_int</th>\n",
       "      <th>lang_int</th>\n",
       "      <th>revenue</th>\n",
       "    </tr>\n",
       "  </thead>\n",
       "  <tbody>\n",
       "    <tr>\n",
       "      <th>0</th>\n",
       "      <td>0</td>\n",
       "      <td>862</td>\n",
       "      <td>en</td>\n",
       "      <td>21.946943</td>\n",
       "      <td>81.0</td>\n",
       "      <td>Released</td>\n",
       "      <td>0</td>\n",
       "      <td>7.7</td>\n",
       "      <td>5415.0</td>\n",
       "      <td>['Animation', 'Comedy', 'Family']</td>\n",
       "      <td>['Pixar Animation Studios']</td>\n",
       "      <td>['United States of America']</td>\n",
       "      <td>1</td>\n",
       "      <td>13</td>\n",
       "      <td>373554033.0</td>\n",
       "    </tr>\n",
       "    <tr>\n",
       "      <th>1</th>\n",
       "      <td>0</td>\n",
       "      <td>8844</td>\n",
       "      <td>en</td>\n",
       "      <td>17.015539</td>\n",
       "      <td>104.0</td>\n",
       "      <td>Released</td>\n",
       "      <td>0</td>\n",
       "      <td>6.9</td>\n",
       "      <td>2413.0</td>\n",
       "      <td>['Adventure', 'Fantasy', 'Family']</td>\n",
       "      <td>['TriStar Pictures', 'Teitler Film', 'Intersco...</td>\n",
       "      <td>['United States of America']</td>\n",
       "      <td>1</td>\n",
       "      <td>13</td>\n",
       "      <td>262797249.0</td>\n",
       "    </tr>\n",
       "    <tr>\n",
       "      <th>2</th>\n",
       "      <td>0</td>\n",
       "      <td>31357</td>\n",
       "      <td>en</td>\n",
       "      <td>3.859495</td>\n",
       "      <td>127.0</td>\n",
       "      <td>Released</td>\n",
       "      <td>0</td>\n",
       "      <td>6.1</td>\n",
       "      <td>34.0</td>\n",
       "      <td>['Comedy', 'Drama', 'Romance']</td>\n",
       "      <td>['Twentieth Century Fox Film Corporation']</td>\n",
       "      <td>['United States of America']</td>\n",
       "      <td>1</td>\n",
       "      <td>13</td>\n",
       "      <td>81452156.0</td>\n",
       "    </tr>\n",
       "    <tr>\n",
       "      <th>3</th>\n",
       "      <td>0</td>\n",
       "      <td>11862</td>\n",
       "      <td>en</td>\n",
       "      <td>8.387519</td>\n",
       "      <td>106.0</td>\n",
       "      <td>Released</td>\n",
       "      <td>0</td>\n",
       "      <td>5.7</td>\n",
       "      <td>173.0</td>\n",
       "      <td>['Comedy']</td>\n",
       "      <td>['Sandollar Productions', 'Touchstone Pictures']</td>\n",
       "      <td>['United States of America']</td>\n",
       "      <td>1</td>\n",
       "      <td>13</td>\n",
       "      <td>76578911.0</td>\n",
       "    </tr>\n",
       "    <tr>\n",
       "      <th>4</th>\n",
       "      <td>0</td>\n",
       "      <td>949</td>\n",
       "      <td>en</td>\n",
       "      <td>17.924927</td>\n",
       "      <td>170.0</td>\n",
       "      <td>Released</td>\n",
       "      <td>0</td>\n",
       "      <td>7.7</td>\n",
       "      <td>1886.0</td>\n",
       "      <td>['Action', 'Crime', 'Drama', 'Thriller']</td>\n",
       "      <td>['Regency Enterprises', 'Forward Pass', 'Warne...</td>\n",
       "      <td>['United States of America']</td>\n",
       "      <td>1</td>\n",
       "      <td>13</td>\n",
       "      <td>187436818.0</td>\n",
       "    </tr>\n",
       "  </tbody>\n",
       "</table>\n",
       "</div>"
      ],
      "text/plain": [
       "   adult     id original_language  popularity  runtime    status  video  \\\n",
       "0      0    862                en   21.946943     81.0  Released      0   \n",
       "1      0   8844                en   17.015539    104.0  Released      0   \n",
       "2      0  31357                en    3.859495    127.0  Released      0   \n",
       "3      0  11862                en    8.387519    106.0  Released      0   \n",
       "4      0    949                en   17.924927    170.0  Released      0   \n",
       "\n",
       "   vote_average  vote_count                                  genreset  \\\n",
       "0           7.7      5415.0         ['Animation', 'Comedy', 'Family']   \n",
       "1           6.9      2413.0        ['Adventure', 'Fantasy', 'Family']   \n",
       "2           6.1        34.0            ['Comedy', 'Drama', 'Romance']   \n",
       "3           5.7       173.0                                ['Comedy']   \n",
       "4           7.7      1886.0  ['Action', 'Crime', 'Drama', 'Thriller']   \n",
       "\n",
       "                                           prod_comp  \\\n",
       "0                        ['Pixar Animation Studios']   \n",
       "1  ['TriStar Pictures', 'Teitler Film', 'Intersco...   \n",
       "2         ['Twentieth Century Fox Film Corporation']   \n",
       "3   ['Sandollar Productions', 'Touchstone Pictures']   \n",
       "4  ['Regency Enterprises', 'Forward Pass', 'Warne...   \n",
       "\n",
       "                 prod_countries  status_int  lang_int      revenue  \n",
       "0  ['United States of America']           1        13  373554033.0  \n",
       "1  ['United States of America']           1        13  262797249.0  \n",
       "2  ['United States of America']           1        13   81452156.0  \n",
       "3  ['United States of America']           1        13   76578911.0  \n",
       "4  ['United States of America']           1        13  187436818.0  "
      ]
     },
     "execution_count": 5,
     "metadata": {},
     "output_type": "execute_result"
    }
   ],
   "source": [
    "r = main_data['revenue']\n",
    "d = main_data.drop(['revenue'], axis=1)\n",
    "main_data = pd.concat([d,r], axis=1)\n",
    "main_data = main_data.dropna()\n",
    "main_data.head()"
   ]
  },
  {
   "cell_type": "code",
   "execution_count": 6,
   "metadata": {
    "scrolled": true
   },
   "outputs": [
    {
     "data": {
      "text/plain": [
       "adult                  int64\n",
       "id                    object\n",
       "original_language     object\n",
       "popularity           float64\n",
       "runtime              float64\n",
       "status                object\n",
       "video                  int64\n",
       "vote_average         float64\n",
       "vote_count           float64\n",
       "genreset              object\n",
       "prod_comp             object\n",
       "prod_countries        object\n",
       "status_int             int64\n",
       "lang_int               int64\n",
       "revenue              float64\n",
       "dtype: object"
      ]
     },
     "execution_count": 6,
     "metadata": {},
     "output_type": "execute_result"
    }
   ],
   "source": [
    "main_data.dtypes"
   ]
  },
  {
   "cell_type": "code",
   "execution_count": 7,
   "metadata": {},
   "outputs": [],
   "source": [
    "def normalize_data(col_name):\n",
    "    X = main_data[col_name]\n",
    "    X = (X-X.min())/(X.max()-X.min())\n",
    "    return X"
   ]
  },
  {
   "cell_type": "code",
   "execution_count": 8,
   "metadata": {},
   "outputs": [],
   "source": [
    "data = pd.DataFrame()"
   ]
  },
  {
   "cell_type": "code",
   "execution_count": 9,
   "metadata": {
    "scrolled": true
   },
   "outputs": [
    {
     "data": {
      "text/html": [
       "<div>\n",
       "<style scoped>\n",
       "    .dataframe tbody tr th:only-of-type {\n",
       "        vertical-align: middle;\n",
       "    }\n",
       "\n",
       "    .dataframe tbody tr th {\n",
       "        vertical-align: top;\n",
       "    }\n",
       "\n",
       "    .dataframe thead th {\n",
       "        text-align: right;\n",
       "    }\n",
       "</style>\n",
       "<table border=\"1\" class=\"dataframe\">\n",
       "  <thead>\n",
       "    <tr style=\"text-align: right;\">\n",
       "      <th></th>\n",
       "      <th>popularity</th>\n",
       "      <th>vote_count</th>\n",
       "      <th>runtime</th>\n",
       "      <th>revenue</th>\n",
       "    </tr>\n",
       "  </thead>\n",
       "  <tbody>\n",
       "    <tr>\n",
       "      <th>0</th>\n",
       "      <td>0.040087</td>\n",
       "      <td>0.77</td>\n",
       "      <td>0.239645</td>\n",
       "      <td>0.133988</td>\n",
       "    </tr>\n",
       "    <tr>\n",
       "      <th>1</th>\n",
       "      <td>0.031079</td>\n",
       "      <td>0.69</td>\n",
       "      <td>0.307692</td>\n",
       "      <td>0.094261</td>\n",
       "    </tr>\n",
       "    <tr>\n",
       "      <th>2</th>\n",
       "      <td>0.007049</td>\n",
       "      <td>0.61</td>\n",
       "      <td>0.375740</td>\n",
       "      <td>0.029216</td>\n",
       "    </tr>\n",
       "    <tr>\n",
       "      <th>3</th>\n",
       "      <td>0.015320</td>\n",
       "      <td>0.57</td>\n",
       "      <td>0.313609</td>\n",
       "      <td>0.027468</td>\n",
       "    </tr>\n",
       "    <tr>\n",
       "      <th>4</th>\n",
       "      <td>0.032740</td>\n",
       "      <td>0.77</td>\n",
       "      <td>0.502959</td>\n",
       "      <td>0.067231</td>\n",
       "    </tr>\n",
       "  </tbody>\n",
       "</table>\n",
       "</div>"
      ],
      "text/plain": [
       "   popularity  vote_count   runtime   revenue\n",
       "0    0.040087        0.77  0.239645  0.133988\n",
       "1    0.031079        0.69  0.307692  0.094261\n",
       "2    0.007049        0.61  0.375740  0.029216\n",
       "3    0.015320        0.57  0.313609  0.027468\n",
       "4    0.032740        0.77  0.502959  0.067231"
      ]
     },
     "execution_count": 9,
     "metadata": {},
     "output_type": "execute_result"
    }
   ],
   "source": [
    "data['popularity'] = normalize_data('popularity')\n",
    "data['vote_count'] = normalize_data('vote_average')\n",
    "data['runtime'] = normalize_data('runtime')\n",
    "data['revenue'] = normalize_data('revenue')\n",
    "data.head()"
   ]
  },
  {
   "cell_type": "code",
   "execution_count": 10,
   "metadata": {},
   "outputs": [
    {
     "data": {
      "text/html": [
       "<div>\n",
       "<style scoped>\n",
       "    .dataframe tbody tr th:only-of-type {\n",
       "        vertical-align: middle;\n",
       "    }\n",
       "\n",
       "    .dataframe tbody tr th {\n",
       "        vertical-align: top;\n",
       "    }\n",
       "\n",
       "    .dataframe thead th {\n",
       "        text-align: right;\n",
       "    }\n",
       "</style>\n",
       "<table border=\"1\" class=\"dataframe\">\n",
       "  <thead>\n",
       "    <tr style=\"text-align: right;\">\n",
       "      <th></th>\n",
       "      <th>popularity</th>\n",
       "      <th>vote_count</th>\n",
       "      <th>runtime</th>\n",
       "      <th>revenue</th>\n",
       "    </tr>\n",
       "  </thead>\n",
       "  <tbody>\n",
       "    <tr>\n",
       "      <th>popularity</th>\n",
       "      <td>1.000000</td>\n",
       "      <td>0.16089</td>\n",
       "      <td>0.112463</td>\n",
       "      <td>0.457799</td>\n",
       "    </tr>\n",
       "    <tr>\n",
       "      <th>vote_count</th>\n",
       "      <td>0.160890</td>\n",
       "      <td>1.00000</td>\n",
       "      <td>0.296440</td>\n",
       "      <td>0.149010</td>\n",
       "    </tr>\n",
       "    <tr>\n",
       "      <th>runtime</th>\n",
       "      <td>0.112463</td>\n",
       "      <td>0.29644</td>\n",
       "      <td>1.000000</td>\n",
       "      <td>0.202650</td>\n",
       "    </tr>\n",
       "    <tr>\n",
       "      <th>revenue</th>\n",
       "      <td>0.457799</td>\n",
       "      <td>0.14901</td>\n",
       "      <td>0.202650</td>\n",
       "      <td>1.000000</td>\n",
       "    </tr>\n",
       "  </tbody>\n",
       "</table>\n",
       "</div>"
      ],
      "text/plain": [
       "            popularity  vote_count   runtime   revenue\n",
       "popularity    1.000000     0.16089  0.112463  0.457799\n",
       "vote_count    0.160890     1.00000  0.296440  0.149010\n",
       "runtime       0.112463     0.29644  1.000000  0.202650\n",
       "revenue       0.457799     0.14901  0.202650  1.000000"
      ]
     },
     "execution_count": 10,
     "metadata": {},
     "output_type": "execute_result"
    }
   ],
   "source": [
    "data.corr('pearson')"
   ]
  },
  {
   "cell_type": "code",
   "execution_count": 11,
   "metadata": {},
   "outputs": [],
   "source": [
    "train,test = train_test_split(data, test_size=0.25)"
   ]
  },
  {
   "cell_type": "code",
   "execution_count": 12,
   "metadata": {},
   "outputs": [],
   "source": [
    "def input_func(df):\n",
    "    label = df['revenue']\n",
    "    ds = tf.data.Dataset.from_tensor_slices((dict(df),label))\n",
    "    return ds"
   ]
  },
  {
   "cell_type": "code",
   "execution_count": 13,
   "metadata": {},
   "outputs": [],
   "source": [
    "ds = input_func(train)\n",
    "dt = input_func(test)"
   ]
  },
  {
   "cell_type": "code",
   "execution_count": 14,
   "metadata": {},
   "outputs": [],
   "source": [
    "def input_train():\n",
    "    return (ds.repeat().batch(5).make_one_shot_iterator().get_next())\n",
    "\n",
    "def input_test():\n",
    "    return (dt.repeat().batch(5).make_one_shot_iterator().get_next())"
   ]
  },
  {
   "cell_type": "code",
   "execution_count": 15,
   "metadata": {},
   "outputs": [],
   "source": [
    "feature_columns = [\n",
    "      tf.feature_column.numeric_column(key=\"popularity\"),\n",
    "      tf.feature_column.numeric_column(key=\"vote_count\"),\n",
    "      tf.feature_column.numeric_column(key=\"runtime\")\n",
    "]"
   ]
  },
  {
   "cell_type": "code",
   "execution_count": 16,
   "metadata": {},
   "outputs": [
    {
     "name": "stdout",
     "output_type": "stream",
     "text": [
      "INFO:tensorflow:Using default config.\n",
      "WARNING:tensorflow:Using temporary folder as model directory: C:\\Users\\ADMINI~1\\AppData\\Local\\Temp\\tmpiam7hp8f\n",
      "INFO:tensorflow:Using config: {'_model_dir': 'C:\\\\Users\\\\ADMINI~1\\\\AppData\\\\Local\\\\Temp\\\\tmpiam7hp8f', '_tf_random_seed': None, '_save_summary_steps': 100, '_save_checkpoints_steps': None, '_save_checkpoints_secs': 600, '_session_config': allow_soft_placement: true\n",
      "graph_options {\n",
      "  rewrite_options {\n",
      "    meta_optimizer_iterations: ONE\n",
      "  }\n",
      "}\n",
      ", '_keep_checkpoint_max': 5, '_keep_checkpoint_every_n_hours': 10000, '_log_step_count_steps': 100, '_train_distribute': None, '_device_fn': None, '_protocol': None, '_eval_distribute': None, '_experimental_distribute': None, '_service': None, '_cluster_spec': <tensorflow.python.training.server_lib.ClusterSpec object at 0x00000187CA2B7A90>, '_task_type': 'worker', '_task_id': 0, '_global_id_in_cluster': 0, '_master': '', '_evaluation_master': '', '_is_chief': True, '_num_ps_replicas': 0, '_num_worker_replicas': 1}\n"
     ]
    }
   ],
   "source": [
    "model = tf.estimator.LinearRegressor(feature_columns=feature_columns, optimizer=tf.train.FtrlOptimizer(\n",
    "      learning_rate=0.1,\n",
    "      l1_regularization_strength=0.001\n",
    "    ))"
   ]
  },
  {
   "cell_type": "code",
   "execution_count": 17,
   "metadata": {
    "scrolled": true
   },
   "outputs": [
    {
     "name": "stdout",
     "output_type": "stream",
     "text": [
      "INFO:tensorflow:Calling model_fn.\n",
      "INFO:tensorflow:Done calling model_fn.\n",
      "INFO:tensorflow:Create CheckpointSaverHook.\n",
      "INFO:tensorflow:Graph was finalized.\n",
      "INFO:tensorflow:Running local_init_op.\n",
      "INFO:tensorflow:Done running local_init_op.\n",
      "INFO:tensorflow:Saving checkpoints for 0 into C:\\Users\\ADMINI~1\\AppData\\Local\\Temp\\tmpiam7hp8f\\model.ckpt.\n",
      "INFO:tensorflow:loss = 0.0020867009, step = 1\n",
      "INFO:tensorflow:global_step/sec: 621.833\n",
      "INFO:tensorflow:loss = 0.0058848173, step = 101 (0.173 sec)\n",
      "INFO:tensorflow:global_step/sec: 1317.57\n",
      "INFO:tensorflow:loss = 0.0039387834, step = 201 (0.064 sec)\n",
      "INFO:tensorflow:global_step/sec: 1564.55\n",
      "INFO:tensorflow:loss = 0.008651267, step = 301 (0.064 sec)\n",
      "INFO:tensorflow:global_step/sec: 1564.61\n",
      "INFO:tensorflow:loss = 0.014037794, step = 401 (0.068 sec)\n",
      "INFO:tensorflow:global_step/sec: 1564.58\n",
      "INFO:tensorflow:loss = 0.0047963904, step = 501 (0.064 sec)\n",
      "INFO:tensorflow:global_step/sec: 1472.57\n",
      "INFO:tensorflow:loss = 0.00027651584, step = 601 (0.064 sec)\n",
      "INFO:tensorflow:global_step/sec: 1564.57\n",
      "INFO:tensorflow:loss = 0.00087600487, step = 701 (0.064 sec)\n",
      "INFO:tensorflow:global_step/sec: 1390.74\n",
      "INFO:tensorflow:loss = 0.0020237912, step = 801 (0.072 sec)\n",
      "INFO:tensorflow:global_step/sec: 1472.57\n",
      "INFO:tensorflow:loss = 0.0008597758, step = 901 (0.068 sec)\n",
      "INFO:tensorflow:Saving checkpoints for 1000 into C:\\Users\\ADMINI~1\\AppData\\Local\\Temp\\tmpiam7hp8f\\model.ckpt.\n",
      "INFO:tensorflow:Loss for final step: 0.0029478974.\n"
     ]
    },
    {
     "data": {
      "text/plain": [
       "<tensorflow.python.estimator.canned.linear.LinearRegressor at 0x187ca2b7630>"
      ]
     },
     "execution_count": 17,
     "metadata": {},
     "output_type": "execute_result"
    }
   ],
   "source": [
    "STEPS = 1000\n",
    "model.train(input_fn=input_train, steps=STEPS)"
   ]
  },
  {
   "cell_type": "code",
   "execution_count": 18,
   "metadata": {},
   "outputs": [
    {
     "name": "stdout",
     "output_type": "stream",
     "text": [
      "INFO:tensorflow:Calling model_fn.\n",
      "INFO:tensorflow:Done calling model_fn.\n",
      "INFO:tensorflow:Starting evaluation at 2018-10-21-12:05:44\n",
      "INFO:tensorflow:Graph was finalized.\n",
      "INFO:tensorflow:Restoring parameters from C:\\Users\\ADMINI~1\\AppData\\Local\\Temp\\tmpiam7hp8f\\model.ckpt-1000\n",
      "INFO:tensorflow:Running local_init_op.\n",
      "INFO:tensorflow:Done running local_init_op.\n",
      "INFO:tensorflow:Evaluation [100/1000]\n",
      "INFO:tensorflow:Evaluation [200/1000]\n",
      "INFO:tensorflow:Evaluation [300/1000]\n",
      "INFO:tensorflow:Evaluation [400/1000]\n",
      "INFO:tensorflow:Evaluation [500/1000]\n",
      "INFO:tensorflow:Evaluation [600/1000]\n",
      "INFO:tensorflow:Evaluation [700/1000]\n",
      "INFO:tensorflow:Evaluation [800/1000]\n",
      "INFO:tensorflow:Evaluation [900/1000]\n",
      "INFO:tensorflow:Evaluation [1000/1000]\n",
      "INFO:tensorflow:Finished evaluation at 2018-10-21-12:05:45\n",
      "INFO:tensorflow:Saving dict for global step 1000: average_loss = 0.0027694104, global_step = 1000, label/mean = 0.02727934, loss = 0.013847051, prediction/mean = 0.02763483\n",
      "INFO:tensorflow:Saving 'checkpoint_path' summary for global step 1000: C:\\Users\\ADMINI~1\\AppData\\Local\\Temp\\tmpiam7hp8f\\model.ckpt-1000\n"
     ]
    }
   ],
   "source": [
    "eval_ = model.evaluate(input_fn=input_test,steps=STEPS)"
   ]
  },
  {
   "cell_type": "code",
   "execution_count": 19,
   "metadata": {},
   "outputs": [
    {
     "data": {
      "text/plain": [
       "0.0027694104"
      ]
     },
     "execution_count": 19,
     "metadata": {},
     "output_type": "execute_result"
    }
   ],
   "source": [
    "# Mean Squared Error\n",
    "\n",
    "mse = eval_['average_loss']\n",
    "mse"
   ]
  },
  {
   "cell_type": "code",
   "execution_count": 20,
   "metadata": {},
   "outputs": [
    {
     "data": {
      "text/plain": [
       "0.052625187"
      ]
     },
     "execution_count": 20,
     "metadata": {},
     "output_type": "execute_result"
    }
   ],
   "source": [
    "# Root Mean Squared Error \n",
    "\n",
    "np.sqrt(mse)"
   ]
  },
  {
   "cell_type": "code",
   "execution_count": 21,
   "metadata": {},
   "outputs": [
    {
     "data": {
      "text/plain": [
       "146717183.3317449"
      ]
     },
     "execution_count": 21,
     "metadata": {},
     "output_type": "execute_result"
    }
   ],
   "source": [
    "np.sqrt(mse)*main_data['revenue'].max()"
   ]
  },
  {
   "cell_type": "code",
   "execution_count": null,
   "metadata": {},
   "outputs": [],
   "source": []
  }
 ],
 "metadata": {
  "kernelspec": {
   "display_name": "Python 3",
   "language": "python",
   "name": "python3"
  },
  "language_info": {
   "codemirror_mode": {
    "name": "ipython",
    "version": 3
   },
   "file_extension": ".py",
   "mimetype": "text/x-python",
   "name": "python",
   "nbconvert_exporter": "python",
   "pygments_lexer": "ipython3",
   "version": "3.6.5"
  }
 },
 "nbformat": 4,
 "nbformat_minor": 2
}
